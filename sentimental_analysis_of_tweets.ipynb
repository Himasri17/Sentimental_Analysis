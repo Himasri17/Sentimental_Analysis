{
  "nbformat": 4,
  "nbformat_minor": 0,
  "metadata": {
    "colab": {
      "provenance": [],
      "authorship_tag": "ABX9TyPf+NrglkGJe+1kex4noY1U",
      "include_colab_link": true
    },
    "kernelspec": {
      "name": "python3",
      "display_name": "Python 3"
    },
    "language_info": {
      "name": "python"
    }
  },
  "cells": [
    {
      "cell_type": "markdown",
      "metadata": {
        "id": "view-in-github",
        "colab_type": "text"
      },
      "source": [
        "<a href=\"https://colab.research.google.com/github/Himasri17/Sentimental_Analysis/blob/main/sentimental_analysis_of_tweets.ipynb\" target=\"_parent\"><img src=\"https://colab.research.google.com/assets/colab-badge.svg\" alt=\"Open In Colab\"/></a>"
      ]
    },
    {
      "cell_type": "code",
      "execution_count": null,
      "metadata": {
        "id": "DF27yazS4QV1"
      },
      "outputs": [],
      "source": [
        "import pandas as pd\n",
        "import re\n",
        "from sklearn.model_selection import train_test_split\n",
        "from sklearn.preprocessing import LabelEncoder\n",
        "\n",
        "# Load the dataset\n",
        "df = pd.read_csv(\"/content/train.csv\", encoding='latin1')\n",
        "test = pd.read_csv(\"/content/test.csv\", encoding='latin1')\n",
        "\n",
        "# Concatenate training and testing datasets\n",
        "df = pd.concat([df, test])\n",
        "\n",
        "# Drop unnecessary columns\n",
        "df.drop(columns=['textID','Time of Tweet', 'Age of User', 'Country', 'Population -2020', 'Land Area (Km²)', 'Density (P/Km²)', \"selected_text\"], axis=1, inplace=True)\n",
        "# Drop rows with missing values\n",
        "df.dropna(inplace=True)\n",
        "\n",
        "# Basic text preprocessing\n",
        "def preprocess_text(text):\n",
        "    # Remove special characters and URLs\n",
        "    text = re.sub(r'http\\S+|www\\S+|https\\S+', '', text, flags=re.MULTILINE)\n",
        "    text = re.sub(r'\\@\\w+|\\#', '', text)\n",
        "    text = re.sub(r'[^\\w\\s]', '', text)\n",
        "    text = text.lower()\n",
        "    return text\n",
        "\n",
        "df['cleaned_text'] = df['text'].apply(preprocess_text)\n",
        "\n",
        "# Encode the target variable\n",
        "encoder = LabelEncoder()\n",
        "df['sentiment'] = encoder.fit_transform(df['sentiment'])\n",
        "\n",
        "# Split the dataset\n",
        "X = df['cleaned_text']\n",
        "y = df['sentiment']\n",
        "X_train, X_test, y_train, y_test = train_test_split(X, y, test_size=0.2, random_state=42)"
      ]
    },
    {
      "cell_type": "markdown",
      "source": [
        "TF-IDF Vectorization"
      ],
      "metadata": {
        "id": "7MlWuvyg4x_5"
      }
    },
    {
      "cell_type": "code",
      "source": [
        "from sklearn.feature_extraction.text import TfidfVectorizer\n",
        "\n",
        "# TF-IDF Vectorization\n",
        "tfidf = TfidfVectorizer(max_features=5000)  # Limit features to 5000 for efficiency\n",
        "X_train_tfidf = tfidf.fit_transform(X_train)\n",
        "X_test_tfidf = tfidf.transform(X_test)"
      ],
      "metadata": {
        "id": "cS6CaDm84ytP"
      },
      "execution_count": null,
      "outputs": []
    },
    {
      "cell_type": "markdown",
      "source": [
        "Logistic Regression Model"
      ],
      "metadata": {
        "id": "UgWyASj344-L"
      }
    },
    {
      "cell_type": "code",
      "source": [
        "from sklearn.linear_model import LogisticRegression\n",
        "from sklearn.metrics import accuracy_score, classification_report, ConfusionMatrixDisplay\n",
        "\n",
        "# Train Logistic Regression\n",
        "lr = LogisticRegression(C=1, n_jobs=-1, random_state=42)\n",
        "lr.fit(X_train_tfidf, y_train)\n",
        "\n",
        "# Predict on the test set\n",
        "y_pred = lr.predict(X_test_tfidf)\n",
        "\n",
        "# Evaluate the model\n",
        "print(\"Accuracy:\", accuracy_score(y_test, y_pred))\n",
        "print(\"Classification Report:\\n\", classification_report(y_test, y_pred, target_names=encoder.classes_))\n",
        "\n",
        "# Confusion Matrix\n",
        "ConfusionMatrixDisplay.from_predictions(y_test, y_pred, display_labels=encoder.classes_)"
      ],
      "metadata": {
        "colab": {
          "base_uri": "https://localhost:8080/",
          "height": 675
        },
        "id": "4CE-6_np45d8",
        "outputId": "695d4551-17ec-49f7-bc71-68047f686e21"
      },
      "execution_count": null,
      "outputs": [
        {
          "output_type": "stream",
          "name": "stdout",
          "text": [
            "Accuracy: 0.6933741737868773\n",
            "Classification Report:\n",
            "               precision    recall  f1-score   support\n",
            "\n",
            "    negative       0.72      0.60      0.65      1749\n",
            "     neutral       0.62      0.75      0.68      2502\n",
            "    positive       0.79      0.70      0.74      1952\n",
            "\n",
            "    accuracy                           0.69      6203\n",
            "   macro avg       0.71      0.68      0.69      6203\n",
            "weighted avg       0.70      0.69      0.69      6203\n",
            "\n"
          ]
        },
        {
          "output_type": "execute_result",
          "data": {
            "text/plain": [
              "<sklearn.metrics._plot.confusion_matrix.ConfusionMatrixDisplay at 0x7d10ea0b1e10>"
            ]
          },
          "metadata": {},
          "execution_count": 3
        },
        {
          "output_type": "display_data",
          "data": {
            "text/plain": [
              "<Figure size 640x480 with 2 Axes>"
            ],
            "image/png": "[encoded data removed]"
          },
          "metadata": {}
        }
      ]
    },
    {
      "cell_type": "markdown",
      "source": [
        "Manual Testing"
      ],
      "metadata": {
        "id": "WSjOk0Co4_-J"
      }
    },
    {
      "cell_type": "code",
      "source": [
        "def manual_testing(text):\n",
        "    # Preprocess the input text\n",
        "    text = preprocess_text(text)\n",
        "    text_vectorized = tfidf.transform([text])\n",
        "\n",
        "    # Predict sentiment\n",
        "    pred = lr.predict(text_vectorized)\n",
        "    sentiment = encoder.inverse_transform(pred)[0]\n",
        "\n",
        "    return f\"{sentiment}\"\n",
        "\n",
        "# Test the function\n",
        "text = input(\"Enter a text: \")\n",
        "print(manual_testing(text))"
      ],
      "metadata": {
        "colab": {
          "base_uri": "https://localhost:8080/"
        },
        "id": "GkEOAzoI5GGS",
        "outputId": "e2da3488-219c-4d34-a3bd-7f228d878eb9"
      },
      "execution_count": null,
      "outputs": [
        {
          "output_type": "stream",
          "name": "stdout",
          "text": [
            "Enter a text: iam sad\n",
            "negative\n"
          ]
        }
      ]
    }
  ]
}